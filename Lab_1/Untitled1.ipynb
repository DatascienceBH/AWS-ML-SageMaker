{
 "cells": [
  {
   "cell_type": "code",
   "execution_count": 12,
   "metadata": {},
   "outputs": [
    {
     "name": "stdout",
     "output_type": "stream",
     "text": [
      "total 12560\r\n",
      "-rw-r--r--@ 1 samirAMRI  staff  1278876 Nov 12 23:56 Lab_1_linearRegression.ipynb\r\n",
      "-rw-r--r--@ 1 samirAMRI  staff   599406 Nov  7 12:25 MatchData.csv\r\n",
      "-rw-r--r--  1 samirAMRI  staff  2678067 Nov 12 19:17 USA_Housing.csv\r\n",
      "-rw-r--r--  1 samirAMRI  staff      852 Nov  7 23:28 Untitled.ipynb\r\n",
      "-rw-r--r--  1 samirAMRI  staff     2396 Nov 13 00:09 Untitled1.ipynb\r\n",
      "-rw-r--r--@ 1 samirAMRI  staff   918960 Sep 21 19:16 bank.csv\r\n",
      "-rw-r--r--@ 1 samirAMRI  staff   170881 Nov 12 22:45 model1.png\r\n",
      "-rw-r--r--@ 1 samirAMRI  staff    52199 Nov 12 22:58 model2.png\r\n",
      "-rw-r--r--@ 1 samirAMRI  staff   235559 Nov 12 23:02 model3.png\r\n"
     ]
    }
   ],
   "source": [
    "!ls -l"
   ]
  },
  {
   "cell_type": "code",
   "execution_count": 5,
   "metadata": {},
   "outputs": [
    {
     "name": "stdout",
     "output_type": "stream",
     "text": [
      "LinearRegression(copy_X=True, fit_intercept=True, n_jobs=None,\n",
      "         normalize=False)\n",
      "152.1334841628965 [ -10.01219782 -239.81908937  519.83978679  324.39042769 -792.18416163\n",
      "  476.74583782  101.04457032  177.06417623  751.27932109   67.62538639] 2859.6903987680657\n"
     ]
    }
   ],
   "source": [
    "import numpy as np\n",
    "from sklearn import datasets\n",
    "from sklearn.linear_model import LinearRegression\n",
    "\n",
    "# load the diabetes datasets\n",
    "\n",
    "dataset = datasets.load_diabetes()\n"
   ]
  },
  {
   "cell_type": "code",
   "execution_count": null,
   "metadata": {},
   "outputs": [],
   "source": [
    "# fit a linear regression model to the data\n",
    "model = LinearRegression()\n",
    "model.fit(dataset.data, dataset.target)\n",
    "\n",
    "print(model)\n",
    "# make predictions\n",
    "expected = dataset.target\n",
    "\n",
    "predicted = model.predict(dataset.data)\n",
    "\n",
    "# summarize the fit of the model\n",
    "\n",
    "mse = np.mean((predicted-expected)**2)\n",
    "\n",
    "print (model.intercept_, model.coef_, mse)"
   ]
  },
  {
   "cell_type": "code",
   "execution_count": 6,
   "metadata": {},
   "outputs": [
    {
     "name": "stdout",
     "output_type": "stream",
     "text": [
      "0.5177494254132934\n"
     ]
    }
   ],
   "source": [
    "print(model.score(dataset.data, dataset.target))"
   ]
  },
  {
   "cell_type": "code",
   "execution_count": null,
   "metadata": {},
   "outputs": [],
   "source": []
  },
  {
   "cell_type": "code",
   "execution_count": null,
   "metadata": {},
   "outputs": [],
   "source": []
  },
  {
   "cell_type": "code",
   "execution_count": null,
   "metadata": {},
   "outputs": [],
   "source": [
    "elem=5\n",
    "liste=[1,2,3,4,5,6,7,8]\n",
    "appartient = False\n",
    "i=0\n",
    "n = len(liste)\n",
    "while i < n and not(appartient) :\n",
    "    if liste[i] == elem : \n",
    "        appartient = True\n",
    "        i=i+1 \n",
    "print(appartient)\n"
   ]
  },
  {
   "cell_type": "code",
   "execution_count": null,
   "metadata": {},
   "outputs": [],
   "source": []
  }
 ],
 "metadata": {
  "kernelspec": {
   "display_name": "Python 3",
   "language": "python",
   "name": "python3"
  },
  "language_info": {
   "codemirror_mode": {
    "name": "ipython",
    "version": 3
   },
   "file_extension": ".py",
   "mimetype": "text/x-python",
   "name": "python",
   "nbconvert_exporter": "python",
   "pygments_lexer": "ipython3",
   "version": "3.7.1"
  }
 },
 "nbformat": 4,
 "nbformat_minor": 2
}
